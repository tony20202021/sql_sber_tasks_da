{
  "nbformat": 4,
  "nbformat_minor": 0,
  "metadata": {
    "colab": {
      "name": "lesson_8_homework",
      "provenance": [],
      "collapsed_sections": []
    },
    "kernelspec": {
      "display_name": "Python 3",
      "name": "python3"
    },
    "language_info": {
      "name": "python"
    }
  },
  "cells": [
    {
      "cell_type": "markdown",
      "source": [
        "# task1  (lesson8)\n",
        "* oracle: https://leetcode.com/problems/department-top-three-salaries/\n",
        "\n",
        "\n",
        "\n",
        "\n",
        "\n",
        "\n",
        "\n",
        "\n",
        "\n",
        "\n",
        "\n",
        "\n",
        "\n",
        "\n",
        "\n",
        "\n",
        "\n",
        "\n",
        "\n",
        "\n",
        "\n",
        "\n",
        "\n",
        "\n",
        "\n",
        "\n"
      ],
      "metadata": {
        "id": "yKkF-eyQ0zC5"
      }
    },
    {
      "cell_type": "code",
      "source": [
        "# в режиме oracle - не смог запустить оконные фукнции\n",
        "# поэтому ограничение количества делал вручную\n",
        "\n",
        "WITH salary_by_department AS\n",
        "(\n",
        "    SELECT DISTINCT departmentId, salary\n",
        "    FROM Employee\n",
        "    GROUP BY departmentId, salary\n",
        "    ORDER BY departmentId ASC, salary DESC\n",
        ")\n",
        ",\n",
        "salary_by_department_top_3 AS\n",
        "(\n",
        "    SELECT departmentId, salary\n",
        "    FROM salary_by_department s_1\n",
        "    WHERE \n",
        "    (\n",
        "        SELECT COUNT(1) \n",
        "        FROM salary_by_department s_2\n",
        "        WHERE \n",
        "            (s_2.salary >= s_1.salary) AND\n",
        "            (s_2.departmentId = s_1.departmentId)\n",
        "    ) <= 3\n",
        ")\n",
        "SELECT Department.name AS Department, Employee.name AS Employee, Employee.salary\n",
        "FROM salary_by_department_top_3\n",
        "INNER JOIN Department\n",
        "ON salary_by_department_top_3.departmentId = Department.id\n",
        "INNER JOIN Employee\n",
        "ON salary_by_department_top_3.salary = Employee.salary"
      ],
      "metadata": {
        "id": "IvqRRvIBQtSH"
      },
      "execution_count": null,
      "outputs": []
    },
    {
      "cell_type": "markdown",
      "source": [
        "# task2  (lesson8)\n",
        "* https://sql-academy.org/ru/trainer/tasks/17"
      ],
      "metadata": {
        "id": "WJQ-PSW3FeiE"
      }
    },
    {
      "cell_type": "code",
      "source": [
        "WITH member_payment AS \n",
        "(\n",
        "    SELECT family_member, SUM(amount * unit_price) AS costs\n",
        "    FROM Payments\n",
        "    WHERE year(date) = 2005\n",
        "    GROUP BY family_member\n",
        ")\n",
        "SELECT FamilyMembers.member_name, FamilyMembers.status, member_payment.costs\n",
        "FROM member_payment\n",
        "INNER JOIN FamilyMembers\n",
        "ON member_payment.family_member= FamilyMembers.member_id\n"
      ],
      "metadata": {
        "id": "DHEAR_i0TA87"
      },
      "execution_count": null,
      "outputs": []
    },
    {
      "cell_type": "markdown",
      "source": [
        "# task3  (lesson8)\n",
        "* https://sql-academy.org/ru/trainer/tasks/13"
      ],
      "metadata": {
        "id": "DkBeuWbuGG4c"
      }
    },
    {
      "cell_type": "code",
      "source": [
        "select name\n",
        "from Passenger\n",
        "group by name\n",
        "HAVING count(name) >= 2"
      ],
      "metadata": {
        "id": "kIF1qHVwTqSF"
      },
      "execution_count": null,
      "outputs": []
    },
    {
      "cell_type": "markdown",
      "source": [
        "# task4  (lesson8)\n",
        "* https://sql-academy.org/ru/trainer/tasks/38"
      ],
      "metadata": {
        "id": "1la7h6ZsGG7M"
      }
    },
    {
      "cell_type": "code",
      "source": [
        "SELECT COUNT(1) as count\n",
        "FROM Student\n",
        "WHERE first_name = 'Anna'"
      ],
      "metadata": {
        "id": "x4XVL7VRT6cI"
      },
      "execution_count": null,
      "outputs": []
    },
    {
      "cell_type": "markdown",
      "source": [
        "# task5  (lesson8)\n",
        "* https://sql-academy.org/ru/trainer/tasks/35"
      ],
      "metadata": {
        "id": "DRtfiutzGG-E"
      }
    },
    {
      "cell_type": "code",
      "source": [
        "SELECT COUNT(DISTINCT classroom) AS count\n",
        "FROM Schedule\n",
        "WHERE date = '2019-09-02'"
      ],
      "metadata": {
        "id": "6PO3gg-8Eb_8"
      },
      "execution_count": null,
      "outputs": []
    },
    {
      "cell_type": "markdown",
      "source": [
        "# task6  (lesson8)\n",
        "* https://sql-academy.org/ru/trainer/tasks/38"
      ],
      "metadata": {
        "id": "VW0K4o4OFvVQ"
      }
    },
    {
      "cell_type": "code",
      "source": [
        "SELECT COUNT(1) as count\n",
        "FROM Student\n",
        "WHERE first_name = 'Anna'"
      ],
      "metadata": {
        "id": "SZTOBA4nEq-L"
      },
      "execution_count": null,
      "outputs": []
    },
    {
      "cell_type": "markdown",
      "source": [
        "# task7  (lesson8)\n",
        "* https://sql-academy.org/ru/trainer/tasks/32"
      ],
      "metadata": {
        "id": "Mi9MCpMUFvYN"
      }
    },
    {
      "cell_type": "code",
      "source": [
        "SELECT FLOOR(AVG(FLOOR((now() - (birthday)) / 10000000000))) AS age\n",
        "FROM FamilyMembers"
      ],
      "metadata": {
        "id": "wnqwMJ_jTrrQ"
      },
      "execution_count": null,
      "outputs": []
    },
    {
      "cell_type": "markdown",
      "source": [
        "# task8  (lesson8)\n",
        "* https://sql-academy.org/ru/trainer/tasks/27"
      ],
      "metadata": {
        "id": "S6rhPAk8FvbJ"
      }
    },
    {
      "cell_type": "code",
      "source": [
        "SELECT good_type_name, SUM(amount*unit_price) AS costs\n",
        "FROM Payments\n",
        "INNER JOIN Goods\n",
        "ON Payments.good = Goods.good_id\n",
        "INNER JOIN GoodTypes\n",
        "ON Goods.type = GoodTypes.good_type_id\n",
        "WHERE YEAR(date) = 2005\n",
        "GROUP BY good_type_name"
      ],
      "metadata": {
        "id": "Sij1cIZsVF2T"
      },
      "execution_count": null,
      "outputs": []
    },
    {
      "cell_type": "markdown",
      "source": [
        "# task9  (lesson8)\n",
        "* https://sql-academy.org/ru/trainer/tasks/37"
      ],
      "metadata": {
        "id": "GBCmxs0nFvd1"
      }
    },
    {
      "cell_type": "code",
      "source": [
        "SELECT FLOOR(MIN((date(now()) - date(birthday)) / 10000)) as year\n",
        "FROM Student"
      ],
      "metadata": {
        "id": "tk_4g5RPW0tH"
      },
      "execution_count": null,
      "outputs": []
    },
    {
      "cell_type": "markdown",
      "source": [
        "# task10  (lesson8)\n",
        "* https://sql-academy.org/ru/trainer/tasks/44"
      ],
      "metadata": {
        "id": "KM0ne0OLFeky"
      }
    },
    {
      "cell_type": "code",
      "source": [
        "SELECT MAX(FLOOR(((date(now()) - date(birthday)) / 10000))) as max_year\n",
        "FROM Class\n",
        "INNER JOIN Student_in_class\n",
        "ON Class.id = Student_in_class.class\n",
        "INNER JOIN Student\n",
        "ON Student_in_class.student = Student.id\n",
        "WHERE name LIKE '10%'"
      ],
      "metadata": {
        "id": "Kt9a3LCLXxVm"
      },
      "execution_count": null,
      "outputs": []
    },
    {
      "cell_type": "markdown",
      "source": [
        "# task11 (lesson8)\n",
        "* https://sql-academy.org/ru/trainer/tasks/20"
      ],
      "metadata": {
        "id": "pyuNhcyBFenn"
      }
    },
    {
      "cell_type": "code",
      "source": [
        "SELECT status, member_name, SUM(amount * unit_price) AS costs\n",
        "FROM FamilyMembers\n",
        "INNER JOIN Payments\n",
        "ON FamilyMembers.member_id = Payments.family_member\n",
        "INNER JOIN Goods\n",
        "ON Payments.good= Goods.good_id\n",
        "INNER JOIN GoodTypes\n",
        "ON Goods.type= GoodTypes.good_type_id\n",
        "WHERE good_type_name = 'entertainment'\n",
        "GROUP BY status, member_name"
      ],
      "metadata": {
        "id": "KLlG_htlp5QE"
      },
      "execution_count": null,
      "outputs": []
    },
    {
      "cell_type": "markdown",
      "source": [
        "# task12  (lesson8)\n",
        "* https://sql-academy.org/ru/trainer/tasks/55"
      ],
      "metadata": {
        "id": "2bTWAruuFeqc"
      }
    },
    {
      "cell_type": "code",
      "source": [
        "WITH company_trips AS \n",
        "(\n",
        "    SELECT company, COUNT(1) as trips_count\n",
        "    FROM Company\n",
        "    INNER JOIN Trip\n",
        "    ON Company.id = Trip.company\n",
        "    GROUP BY company\n",
        "),\n",
        "min_company_trips AS \n",
        "(\n",
        "    SELECT *\n",
        "    FROM company_trips \n",
        "    WHERE trips_count = (SELECT MIN(trips_count) FROM company_trips)\n",
        ")    \n",
        "DELETE \n",
        "FROM Company\n",
        "WHERE id IN (SELECT company FROM min_company_trips )\n"
      ],
      "metadata": {
        "id": "H3v_k8SPrSlC"
      },
      "execution_count": null,
      "outputs": []
    },
    {
      "cell_type": "markdown",
      "source": [
        "# task13  (lesson8)\n",
        "* https://sql-academy.org/ru/trainer/tasks/45"
      ],
      "metadata": {
        "id": "ihpaJMfCFetf"
      }
    },
    {
      "cell_type": "code",
      "source": [
        "WITH classroom_count AS\n",
        "(\n",
        "    SELECT classroom, COUNT(1) as classroom_count\n",
        "    FROM Schedule\n",
        "    GROUP BY classroom\n",
        "),\n",
        "max_classroom_count AS\n",
        "(\n",
        "    SELECT MAX(classroom_count) as max_classroom_count\n",
        "    FROM classroom_count \n",
        ")\n",
        "SELECT classroom\n",
        "FROM classroom_count \n",
        "WHERE classroom_count = (SELECT max_classroom_count FROM max_classroom_count)"
      ],
      "metadata": {
        "id": "OWGTc76YsgrQ"
      },
      "execution_count": null,
      "outputs": []
    },
    {
      "cell_type": "markdown",
      "source": [
        "# task14  (lesson8)\n",
        "* https://sql-academy.org/ru/trainer/tasks/43"
      ],
      "metadata": {
        "id": "Uj40m55CFewn"
      }
    },
    {
      "cell_type": "code",
      "source": [
        "SELECT last_name\n",
        "FROM Teacher\n",
        "INNER JOIN Schedule\n",
        "ON Teacher.id = Schedule.teacher\n",
        "INNER JOIN Subject\n",
        "ON Schedule.subject = Subject.id\n",
        "WHERE name = 'Physical Culture'\n",
        "ORDER BY last_name"
      ],
      "metadata": {
        "id": "nEyo8platBhV"
      },
      "execution_count": null,
      "outputs": []
    },
    {
      "cell_type": "markdown",
      "source": [
        "# task15  (lesson8)\n",
        "* https://sql-academy.org/ru/trainer/tasks/63 "
      ],
      "metadata": {
        "id": "3G2iL0qxFezR"
      }
    },
    {
      "cell_type": "code",
      "source": [
        "# вроде сделал все по заданию, но тренажер не принимает результат\n",
        "\n",
        "\n",
        "\n",
        "WITH fio AS \n",
        "(\n",
        "    SELECT CONCAT(UPPER(SUBSTRING(last_name, 1, 1)), LOWER(SUBSTRING(last_name, 2)), '.', SUBSTRING(first_name, 1, 1), '.', SUBSTRING(middle_name, 1, 1), '.') AS name\n",
        "    FROM Student\n",
        ")    \n",
        "SELECT name FROM fio \n",
        "ORDER BY name"
      ],
      "metadata": {
        "id": "VWRRHEZjGek1"
      },
      "execution_count": null,
      "outputs": []
    }
  ]
}