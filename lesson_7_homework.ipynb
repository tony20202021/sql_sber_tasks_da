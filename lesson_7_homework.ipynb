{
  "nbformat": 4,
  "nbformat_minor": 0,
  "metadata": {
    "colab": {
      "name": "lesson_7_homework",
      "provenance": [],
      "collapsed_sections": []
    },
    "kernelspec": {
      "display_name": "Python 3",
      "name": "python3"
    },
    "language_info": {
      "name": "python"
    }
  },
  "cells": [
    {
      "cell_type": "code",
      "source": [
        ""
      ],
      "metadata": {
        "id": "c1RV3SQUFeuS"
      },
      "execution_count": null,
      "outputs": []
    },
    {
      "cell_type": "markdown",
      "source": [
        "# task2  (lesson7)\n",
        "* oracle: https://leetcode.com/problems/duplicate-emails/\n",
        "\n",
        "\n",
        "\n",
        "\n",
        "\n"
      ],
      "metadata": {
        "id": "OsgsjuLYwAnT"
      }
    },
    {
      "cell_type": "code",
      "source": [
        "select distinct email from person group by email having count(email) >= 2"
      ],
      "metadata": {
        "id": "TL2BzxLxwp1X"
      },
      "execution_count": null,
      "outputs": []
    },
    {
      "cell_type": "markdown",
      "source": [
        "# task3  (lesson7)\n",
        "* oracle: https://leetcode.com/problems/employees-earning-more-than-their-managers/"
      ],
      "metadata": {
        "id": "ZBCGyqWOwAuV"
      }
    },
    {
      "cell_type": "code",
      "source": [
        "select Employee.name AS Employee \n",
        "from Employee \n",
        "left join Employee AS managers\n",
        "on Employee.managerId = managers.id\n",
        "where Employee.salary > managers.salary"
      ],
      "metadata": {
        "id": "iw6DGHGxwq2g"
      },
      "execution_count": null,
      "outputs": []
    },
    {
      "cell_type": "markdown",
      "source": [
        "# task4  (lesson7)\n",
        "* oracle: https://leetcode.com/problems/rank-scores/"
      ],
      "metadata": {
        "id": "7-FWtjKDwAxx"
      }
    },
    {
      "cell_type": "code",
      "source": [
        "WITH unique_scores AS\n",
        "(\n",
        "    select DISTINCT score FROM Scores\n",
        "),\n",
        "unique_ranks AS\n",
        "(\n",
        "    select score, RANK() OVER(ORDER BY score DESC) AS \"rank\"\n",
        "    from unique_scores\n",
        "    order by score DESC\n",
        ")\n",
        "select Scores.score, unique_ranks.rank from Scores\n",
        "left join unique_ranks\n",
        "on Scores.score = unique_ranks.score\n",
        "order by Scores.score DESC"
      ],
      "metadata": {
        "id": "CNat7RhqwrWK"
      },
      "execution_count": null,
      "outputs": []
    },
    {
      "cell_type": "markdown",
      "source": [
        "# task5  (lesson7)\n",
        "* oracle: https://leetcode.com/problems/combine-two-tables/"
      ],
      "metadata": {
        "id": "DQBg6FRKwBCQ"
      }
    },
    {
      "cell_type": "code",
      "source": [
        "select firstName, lastName, city, state FROM Person\n",
        "left join Address\n",
        "on Person.personId = Address.personId "
      ],
      "metadata": {
        "id": "LVA8T42_FZ27"
      },
      "execution_count": null,
      "outputs": []
    },
    {
      "cell_type": "code",
      "source": [
        ""
      ],
      "metadata": {
        "id": "2JP0SNzTE5iF"
      },
      "execution_count": null,
      "outputs": []
    }
  ]
}