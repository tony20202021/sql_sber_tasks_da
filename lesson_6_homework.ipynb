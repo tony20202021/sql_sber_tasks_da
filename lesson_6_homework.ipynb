{
  "nbformat": 4,
  "nbformat_minor": 0,
  "metadata": {
    "colab": {
      "name": "lesson_6_homework",
      "provenance": [],
      "collapsed_sections": []
    },
    "kernelspec": {
      "display_name": "Python 3",
      "name": "python3"
    },
    "language_info": {
      "name": "python"
    }
  },
  "cells": [
    {
      "cell_type": "code",
      "metadata": {
        "id": "8w-uMyA4FZd9",
        "colab": {
          "base_uri": "https://localhost:8080/"
        },
        "outputId": "2e62a900-e69d-4314-b44d-82af242e05d9"
      },
      "source": [
        "#установка библиотек\n",
        "!pip install -U psycopg2\n",
        "!pip install -U plotly"
      ],
      "execution_count": 1,
      "outputs": [
        {
          "output_type": "stream",
          "name": "stdout",
          "text": [
            "Requirement already satisfied: psycopg2 in /usr/local/lib/python3.7/dist-packages (2.7.6.1)\n",
            "Collecting psycopg2\n",
            "  Downloading psycopg2-2.9.3.tar.gz (380 kB)\n",
            "\u001b[K     |████████████████████████████████| 380 kB 5.1 MB/s \n",
            "\u001b[?25hBuilding wheels for collected packages: psycopg2\n",
            "  Building wheel for psycopg2 (setup.py) ... \u001b[?25l\u001b[?25hdone\n",
            "  Created wheel for psycopg2: filename=psycopg2-2.9.3-cp37-cp37m-linux_x86_64.whl size=471561 sha256=47799489fad20a5eff6476952c57ce4f1b74368e25fc723b64888c12ff525720\n",
            "  Stored in directory: /root/.cache/pip/wheels/20/78/2c/d2f59d80d97357ffd6526f209083e46d57827d94d89ac8c91a\n",
            "Successfully built psycopg2\n",
            "Installing collected packages: psycopg2\n",
            "  Attempting uninstall: psycopg2\n",
            "    Found existing installation: psycopg2 2.7.6.1\n",
            "    Uninstalling psycopg2-2.7.6.1:\n",
            "      Successfully uninstalled psycopg2-2.7.6.1\n",
            "Successfully installed psycopg2-2.9.3\n",
            "Requirement already satisfied: plotly in /usr/local/lib/python3.7/dist-packages (5.5.0)\n",
            "Collecting plotly\n",
            "  Downloading plotly-5.6.0-py2.py3-none-any.whl (27.7 MB)\n",
            "\u001b[K     |████████████████████████████████| 27.7 MB 1.6 MB/s \n",
            "\u001b[?25hRequirement already satisfied: six in /usr/local/lib/python3.7/dist-packages (from plotly) (1.15.0)\n",
            "Requirement already satisfied: tenacity>=6.2.0 in /usr/local/lib/python3.7/dist-packages (from plotly) (8.0.1)\n",
            "Installing collected packages: plotly\n",
            "  Attempting uninstall: plotly\n",
            "    Found existing installation: plotly 5.5.0\n",
            "    Uninstalling plotly-5.5.0:\n",
            "      Successfully uninstalled plotly-5.5.0\n",
            "Successfully installed plotly-5.6.0\n"
          ]
        }
      ]
    },
    {
      "cell_type": "code",
      "source": [
        "import psycopg2\n",
        "psycopg2.__version__"
      ],
      "metadata": {
        "colab": {
          "base_uri": "https://localhost:8080/",
          "height": 35
        },
        "id": "IUe23-TMBw23",
        "outputId": "9006e4b3-50c3-4031-cc0c-62efc3404bb9"
      },
      "execution_count": 2,
      "outputs": [
        {
          "output_type": "execute_result",
          "data": {
            "application/vnd.google.colaboratory.intrinsic+json": {
              "type": "string"
            },
            "text/plain": [
              "'2.9.3 (dt dec pq3 ext lo64)'"
            ]
          },
          "metadata": {},
          "execution_count": 2
        }
      ]
    },
    {
      "cell_type": "markdown",
      "source": [
        "# проверка подключения"
      ],
      "metadata": {
        "id": "KAF8gd9MGof2"
      }
    },
    {
      "cell_type": "code",
      "metadata": {
        "id": "u81D1XPNlUYc"
      },
      "source": [
        "# student11\n",
        "# student11_password"
      ],
      "execution_count": 3,
      "outputs": []
    },
    {
      "cell_type": "code",
      "metadata": {
        "id": "tg6CUoL3Fo1X"
      },
      "source": [
        "#проверка подключения PostgreSQL \n",
        "import psycopg2\n",
        "import pandas as pd\n",
        "#Библиотека ждя визуализации\n",
        "from IPython.display import HTML\n",
        "import plotly.express as px\n",
        "\n",
        "\n",
        "#!введите свои реквизиты!\n",
        "DB_HOST = '52.157.159.24'\n",
        "DB_USER = 'student11'\n",
        "DB_USER_PASSWORD = 'student11_password'\n",
        "DB_NAME = 'sql_ex_third_stream'\n",
        "\n",
        "conn = psycopg2.connect(host=DB_HOST, user=DB_USER, password=DB_USER_PASSWORD, dbname=DB_NAME)"
      ],
      "execution_count": 4,
      "outputs": []
    },
    {
      "cell_type": "code",
      "source": [
        "conn"
      ],
      "metadata": {
        "colab": {
          "base_uri": "https://localhost:8080/"
        },
        "id": "Olgbd7H1Ap1P",
        "outputId": "35ae9357-fa97-4f47-b879-c7b52dd6446d"
      },
      "execution_count": 5,
      "outputs": [
        {
          "output_type": "execute_result",
          "data": {
            "text/plain": [
              "<connection object at 0x7f1a7214bc20; dsn: 'user=student11 password=xxx dbname=sql_ex_third_stream host=52.157.159.24', closed: 0>"
            ]
          },
          "metadata": {},
          "execution_count": 5
        }
      ]
    },
    {
      "cell_type": "code",
      "source": [
        "conn.isexecuting()"
      ],
      "metadata": {
        "colab": {
          "base_uri": "https://localhost:8080/"
        },
        "id": "ElUGKSpbBWIO",
        "outputId": "55de3871-49bc-4770-c599-945d83cdcb1a"
      },
      "execution_count": 6,
      "outputs": [
        {
          "output_type": "execute_result",
          "data": {
            "text/plain": [
              "False"
            ]
          },
          "metadata": {},
          "execution_count": 6
        }
      ]
    },
    {
      "cell_type": "markdown",
      "source": [
        "# задания\n",
        "\n",
        "\n",
        "\n",
        "\n",
        "\n",
        "\n",
        "\n",
        "\n",
        "\n",
        "\n"
      ],
      "metadata": {
        "id": "NjRal9IPHJsL"
      }
    },
    {
      "cell_type": "markdown",
      "source": [
        "# task1  (lesson6, дополнительно)\n",
        "* SQL: Создайте таблицу с синтетическими данными (10000 строк, 3 колонки, все типы int) и заполните ее случайными данными от 0 до 1 000 000. Проведите EXPLAIN операции и сравните базовые операции.\n",
        "\n"
      ],
      "metadata": {
        "id": "O3ux2f1WBoU_"
      }
    },
    {
      "cell_type": "code",
      "source": [
        "SQL1 =  \"\"\"\n",
        "            DROP TABLE IF EXISTS synthetic_11\n",
        "            ;\n",
        "\n",
        "            CREATE TABLE synthetic_11\n",
        "            (\n",
        "                column_01 int,\n",
        "                column_02 int,\n",
        "                column_03 int\n",
        "            )\n",
        "            ;\n",
        "\n",
        "            INSERT INTO synthetic_11(column_01, column_02, column_03)\n",
        "            SELECT \n",
        "                1000000 * random(), \n",
        "                1000000 * random(), \n",
        "                1000000 * random()\n",
        "            FROM generate_series(0, 10000 - 1)\n",
        "            ;\n",
        "\n",
        "            SELECT * \n",
        "            FROM synthetic_11\n",
        "            ;\n",
        "         \"\"\"\n",
        "\n",
        "df = pd.read_sql_query(SQL1, conn)\n",
        "df\n"
      ],
      "metadata": {
        "colab": {
          "base_uri": "https://localhost:8080/",
          "height": 424
        },
        "id": "lbrODIIPIhT2",
        "outputId": "0c462c82-4abb-4f57-861c-3ad61d65ea3d"
      },
      "execution_count": 7,
      "outputs": [
        {
          "output_type": "execute_result",
          "data": {
            "text/html": [
              "\n",
              "  <div id=\"df-9fc51c6c-933b-4fef-ac4f-ff86bf4119fd\">\n",
              "    <div class=\"colab-df-container\">\n",
              "      <div>\n",
              "<style scoped>\n",
              "    .dataframe tbody tr th:only-of-type {\n",
              "        vertical-align: middle;\n",
              "    }\n",
              "\n",
              "    .dataframe tbody tr th {\n",
              "        vertical-align: top;\n",
              "    }\n",
              "\n",
              "    .dataframe thead th {\n",
              "        text-align: right;\n",
              "    }\n",
              "</style>\n",
              "<table border=\"1\" class=\"dataframe\">\n",
              "  <thead>\n",
              "    <tr style=\"text-align: right;\">\n",
              "      <th></th>\n",
              "      <th>column_01</th>\n",
              "      <th>column_02</th>\n",
              "      <th>column_03</th>\n",
              "    </tr>\n",
              "  </thead>\n",
              "  <tbody>\n",
              "    <tr>\n",
              "      <th>0</th>\n",
              "      <td>149195</td>\n",
              "      <td>237387</td>\n",
              "      <td>190895</td>\n",
              "    </tr>\n",
              "    <tr>\n",
              "      <th>1</th>\n",
              "      <td>513829</td>\n",
              "      <td>187793</td>\n",
              "      <td>608368</td>\n",
              "    </tr>\n",
              "    <tr>\n",
              "      <th>2</th>\n",
              "      <td>936658</td>\n",
              "      <td>612580</td>\n",
              "      <td>385795</td>\n",
              "    </tr>\n",
              "    <tr>\n",
              "      <th>3</th>\n",
              "      <td>108220</td>\n",
              "      <td>982096</td>\n",
              "      <td>417495</td>\n",
              "    </tr>\n",
              "    <tr>\n",
              "      <th>4</th>\n",
              "      <td>553640</td>\n",
              "      <td>845469</td>\n",
              "      <td>95158</td>\n",
              "    </tr>\n",
              "    <tr>\n",
              "      <th>...</th>\n",
              "      <td>...</td>\n",
              "      <td>...</td>\n",
              "      <td>...</td>\n",
              "    </tr>\n",
              "    <tr>\n",
              "      <th>9995</th>\n",
              "      <td>354551</td>\n",
              "      <td>926778</td>\n",
              "      <td>169290</td>\n",
              "    </tr>\n",
              "    <tr>\n",
              "      <th>9996</th>\n",
              "      <td>871284</td>\n",
              "      <td>343550</td>\n",
              "      <td>145413</td>\n",
              "    </tr>\n",
              "    <tr>\n",
              "      <th>9997</th>\n",
              "      <td>953200</td>\n",
              "      <td>568147</td>\n",
              "      <td>523742</td>\n",
              "    </tr>\n",
              "    <tr>\n",
              "      <th>9998</th>\n",
              "      <td>671840</td>\n",
              "      <td>180632</td>\n",
              "      <td>814648</td>\n",
              "    </tr>\n",
              "    <tr>\n",
              "      <th>9999</th>\n",
              "      <td>771720</td>\n",
              "      <td>245064</td>\n",
              "      <td>231567</td>\n",
              "    </tr>\n",
              "  </tbody>\n",
              "</table>\n",
              "<p>10000 rows × 3 columns</p>\n",
              "</div>\n",
              "      <button class=\"colab-df-convert\" onclick=\"convertToInteractive('df-9fc51c6c-933b-4fef-ac4f-ff86bf4119fd')\"\n",
              "              title=\"Convert this dataframe to an interactive table.\"\n",
              "              style=\"display:none;\">\n",
              "        \n",
              "  <svg xmlns=\"http://www.w3.org/2000/svg\" height=\"24px\"viewBox=\"0 0 24 24\"\n",
              "       width=\"24px\">\n",
              "    <path d=\"M0 0h24v24H0V0z\" fill=\"none\"/>\n",
              "    <path d=\"M18.56 5.44l.94 2.06.94-2.06 2.06-.94-2.06-.94-.94-2.06-.94 2.06-2.06.94zm-11 1L8.5 8.5l.94-2.06 2.06-.94-2.06-.94L8.5 2.5l-.94 2.06-2.06.94zm10 10l.94 2.06.94-2.06 2.06-.94-2.06-.94-.94-2.06-.94 2.06-2.06.94z\"/><path d=\"M17.41 7.96l-1.37-1.37c-.4-.4-.92-.59-1.43-.59-.52 0-1.04.2-1.43.59L10.3 9.45l-7.72 7.72c-.78.78-.78 2.05 0 2.83L4 21.41c.39.39.9.59 1.41.59.51 0 1.02-.2 1.41-.59l7.78-7.78 2.81-2.81c.8-.78.8-2.07 0-2.86zM5.41 20L4 18.59l7.72-7.72 1.47 1.35L5.41 20z\"/>\n",
              "  </svg>\n",
              "      </button>\n",
              "      \n",
              "  <style>\n",
              "    .colab-df-container {\n",
              "      display:flex;\n",
              "      flex-wrap:wrap;\n",
              "      gap: 12px;\n",
              "    }\n",
              "\n",
              "    .colab-df-convert {\n",
              "      background-color: #E8F0FE;\n",
              "      border: none;\n",
              "      border-radius: 50%;\n",
              "      cursor: pointer;\n",
              "      display: none;\n",
              "      fill: #1967D2;\n",
              "      height: 32px;\n",
              "      padding: 0 0 0 0;\n",
              "      width: 32px;\n",
              "    }\n",
              "\n",
              "    .colab-df-convert:hover {\n",
              "      background-color: #E2EBFA;\n",
              "      box-shadow: 0px 1px 2px rgba(60, 64, 67, 0.3), 0px 1px 3px 1px rgba(60, 64, 67, 0.15);\n",
              "      fill: #174EA6;\n",
              "    }\n",
              "\n",
              "    [theme=dark] .colab-df-convert {\n",
              "      background-color: #3B4455;\n",
              "      fill: #D2E3FC;\n",
              "    }\n",
              "\n",
              "    [theme=dark] .colab-df-convert:hover {\n",
              "      background-color: #434B5C;\n",
              "      box-shadow: 0px 1px 3px 1px rgba(0, 0, 0, 0.15);\n",
              "      filter: drop-shadow(0px 1px 2px rgba(0, 0, 0, 0.3));\n",
              "      fill: #FFFFFF;\n",
              "    }\n",
              "  </style>\n",
              "\n",
              "      <script>\n",
              "        const buttonEl =\n",
              "          document.querySelector('#df-9fc51c6c-933b-4fef-ac4f-ff86bf4119fd button.colab-df-convert');\n",
              "        buttonEl.style.display =\n",
              "          google.colab.kernel.accessAllowed ? 'block' : 'none';\n",
              "\n",
              "        async function convertToInteractive(key) {\n",
              "          const element = document.querySelector('#df-9fc51c6c-933b-4fef-ac4f-ff86bf4119fd');\n",
              "          const dataTable =\n",
              "            await google.colab.kernel.invokeFunction('convertToInteractive',\n",
              "                                                     [key], {});\n",
              "          if (!dataTable) return;\n",
              "\n",
              "          const docLinkHtml = 'Like what you see? Visit the ' +\n",
              "            '<a target=\"_blank\" href=https://colab.research.google.com/notebooks/data_table.ipynb>data table notebook</a>'\n",
              "            + ' to learn more about interactive tables.';\n",
              "          element.innerHTML = '';\n",
              "          dataTable['output_type'] = 'display_data';\n",
              "          await google.colab.output.renderOutput(dataTable, element);\n",
              "          const docLink = document.createElement('div');\n",
              "          docLink.innerHTML = docLinkHtml;\n",
              "          element.appendChild(docLink);\n",
              "        }\n",
              "      </script>\n",
              "    </div>\n",
              "  </div>\n",
              "  "
            ],
            "text/plain": [
              "      column_01  column_02  column_03\n",
              "0        149195     237387     190895\n",
              "1        513829     187793     608368\n",
              "2        936658     612580     385795\n",
              "3        108220     982096     417495\n",
              "4        553640     845469      95158\n",
              "...         ...        ...        ...\n",
              "9995     354551     926778     169290\n",
              "9996     871284     343550     145413\n",
              "9997     953200     568147     523742\n",
              "9998     671840     180632     814648\n",
              "9999     771720     245064     231567\n",
              "\n",
              "[10000 rows x 3 columns]"
            ]
          },
          "metadata": {},
          "execution_count": 7
        }
      ]
    },
    {
      "cell_type": "code",
      "source": [
        "# df.to_csv('df.csv')"
      ],
      "metadata": {
        "id": "n5gDqZqpcuvc"
      },
      "execution_count": 8,
      "outputs": []
    },
    {
      "cell_type": "code",
      "source": [
        "SQL1 =  \"\"\"\n",
        "            EXPLAIN ANALYZE\n",
        "\n",
        "            SELECT * \n",
        "            FROM synthetic_11\n",
        "            ;\n",
        "\n",
        "        \"\"\"\n",
        "\n",
        "df = pd.read_sql_query(SQL1, conn)\n",
        "df['QUERY PLAN'][0]\n"
      ],
      "metadata": {
        "colab": {
          "base_uri": "https://localhost:8080/",
          "height": 35
        },
        "id": "pKl0BGNBgkUu",
        "outputId": "83c30c4d-8cf3-4a08-947f-7c10de1fa32b"
      },
      "execution_count": 9,
      "outputs": [
        {
          "output_type": "execute_result",
          "data": {
            "application/vnd.google.colaboratory.intrinsic+json": {
              "type": "string"
            },
            "text/plain": [
              "'Seq Scan on synthetic_11  (cost=0.00..167.20 rows=11220 width=12) (actual time=0.009..0.810 rows=10000 loops=1)'"
            ]
          },
          "metadata": {},
          "execution_count": 9
        }
      ]
    },
    {
      "cell_type": "code",
      "source": [
        "SQL1 =  \"\"\"\n",
        "            EXPLAIN ANALYZE\n",
        "\n",
        "            INSERT INTO synthetic_11 (column_01, column_02, column_03)\n",
        "            VALUES (1,2,3)\n",
        "            ;\n",
        "\n",
        "        \"\"\"\n",
        "\n",
        "df = pd.read_sql_query(SQL1, conn)\n",
        "df['QUERY PLAN'][0]\n"
      ],
      "metadata": {
        "colab": {
          "base_uri": "https://localhost:8080/",
          "height": 35
        },
        "id": "YoRKq5dLInA7",
        "outputId": "c8a3efb8-457e-40fb-d8ce-25c7b145b0e6"
      },
      "execution_count": 10,
      "outputs": [
        {
          "output_type": "execute_result",
          "data": {
            "application/vnd.google.colaboratory.intrinsic+json": {
              "type": "string"
            },
            "text/plain": [
              "'Insert on synthetic_11  (cost=0.00..0.01 rows=1 width=12) (actual time=0.015..0.015 rows=0 loops=1)'"
            ]
          },
          "metadata": {},
          "execution_count": 10
        }
      ]
    },
    {
      "cell_type": "code",
      "source": [
        "SQL1 =  \"\"\"\n",
        "            EXPLAIN ANALYZE\n",
        "\n",
        "            DELETE FROM synthetic_11\n",
        "            WHERE \n",
        "                column_01 = 1 AND \n",
        "                column_02 = 2 AND \n",
        "                column_03 = 3\n",
        "            ;\n",
        "\n",
        "        \"\"\"\n",
        "\n",
        "df = pd.read_sql_query(SQL1, conn)\n",
        "df['QUERY PLAN'][0]\n"
      ],
      "metadata": {
        "colab": {
          "base_uri": "https://localhost:8080/",
          "height": 35
        },
        "id": "Jxwf5yuukTD7",
        "outputId": "10d4dfa6-a063-4180-e8e3-283ec91b15c1"
      },
      "execution_count": 11,
      "outputs": [
        {
          "output_type": "execute_result",
          "data": {
            "application/vnd.google.colaboratory.intrinsic+json": {
              "type": "string"
            },
            "text/plain": [
              "'Delete on synthetic_11  (cost=0.00..251.35 rows=1 width=6) (actual time=0.677..0.678 rows=0 loops=1)'"
            ]
          },
          "metadata": {},
          "execution_count": 11
        }
      ]
    },
    {
      "cell_type": "code",
      "source": [
        ""
      ],
      "metadata": {
        "id": "g1NuBltzkTGk"
      },
      "execution_count": 11,
      "outputs": []
    },
    {
      "cell_type": "markdown",
      "source": [
        "# task2 (lesson6, дополнительно)\n",
        "* GCP (Google Cloud Platform): Через GCP загрузите данные csv в базу PSQL по личным реквизитам (используя только bash и интерфейс bash) "
      ],
      "metadata": {
        "id": "LHGbjrcdChBh"
      }
    },
    {
      "cell_type": "markdown",
      "source": [
        "```\n",
        "wget --no-check-certificate 'https://docs.google.com/uc?export=download&id=1UbCdRr0li6gFM0E2TsuW5gOPiEGLTQTC' -O ships.csv\n",
        "```\n",
        "\n",
        "\n",
        "```\n",
        "select count(1) from ships;\n",
        " count\n",
        "-------\n",
        "    44\n",
        "(1 row)\n",
        "```\n",
        "\n",
        "\n",
        "\n",
        "```\n",
        "\\COPY ships FROM './ships.csv' delimiter ',' csv header ;\n",
        "COPY 22\n",
        "```\n",
        "\n",
        "```\n",
        "select count(1) from ships;\n",
        " count\n",
        "-------\n",
        "    66\n",
        "(1 row)\n",
        "```\n"
      ],
      "metadata": {
        "id": "U0yccsiPk1X_"
      }
    },
    {
      "cell_type": "code",
      "source": [
        ""
      ],
      "metadata": {
        "id": "c1RV3SQUFeuS"
      },
      "execution_count": 11,
      "outputs": []
    },
    {
      "cell_type": "code",
      "source": [
        ""
      ],
      "metadata": {
        "id": "LVA8T42_FZ27"
      },
      "execution_count": 11,
      "outputs": []
    },
    {
      "cell_type": "code",
      "source": [
        ""
      ],
      "metadata": {
        "id": "2JP0SNzTE5iF"
      },
      "execution_count": 11,
      "outputs": []
    }
  ]
}