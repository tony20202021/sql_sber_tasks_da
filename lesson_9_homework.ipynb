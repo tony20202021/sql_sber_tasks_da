{
  "nbformat": 4,
  "nbformat_minor": 0,
  "metadata": {
    "colab": {
      "name": "lesson_9_homework",
      "provenance": [],
      "collapsed_sections": []
    },
    "kernelspec": {
      "display_name": "Python 3",
      "name": "python3"
    },
    "language_info": {
      "name": "python"
    }
  },
  "cells": [
    {
      "cell_type": "markdown",
      "source": [
        "# task1  (lesson9)\n",
        "* oracle: https://www.hackerrank.com/challenges/the-report/problem\n",
        "\n",
        "\n",
        "\n",
        "\n",
        "\n",
        "\n",
        "\n",
        "\n",
        "\n",
        "\n",
        "\n",
        "\n",
        "\n"
      ],
      "metadata": {
        "id": "yKkF-eyQ0zC5"
      }
    },
    {
      "cell_type": "code",
      "source": [
        "WITH students_grades AS\n",
        "(\n",
        "    SELECT Name, Grade, Marks\n",
        "    FROM Students, Grades \n",
        "    WHERE \n",
        "        (Students.Marks >= Grades.Min_Mark) AND\n",
        "        (Students.Marks <= Grades.Max_Mark)\n",
        ") \n",
        "SELECT Name, Grade, Marks\n",
        "FROM students_grades\n",
        "WHERE Grade >= 8\n",
        "UNION\n",
        "SELECT NULL, Grade, Marks\n",
        "FROM students_grades\n",
        "WHERE Grade < 8\n",
        "ORDER BY Grade DESC, Name, Marks\n",
        ";"
      ],
      "metadata": {
        "id": "gY0VZI-ywoCk"
      },
      "execution_count": null,
      "outputs": []
    },
    {
      "cell_type": "markdown",
      "source": [
        "# task2  (lesson9)\n",
        "* oracle: https://www.hackerrank.com/challenges/occupations/problem"
      ],
      "metadata": {
        "id": "cqXFyeeDwP3u"
      }
    },
    {
      "cell_type": "code",
      "source": [
        "/*\n",
        "Enter your query here.\n",
        "Please append a semicolon \";\" at the end of the query and enter your query in a single line to avoid error.\n",
        "*/\n",
        "WITH name_number AS\n",
        "(\n",
        "    SELECT Name, Occupation, ROW_NUMBER() OVER(PARTITION BY Occupation ORDER BY Occupation, Name) AS rn\n",
        "    FROM OCCUPATIONS \n",
        "),\n",
        "max_name_number AS\n",
        "(\n",
        "    SELECT MAX(rn)\n",
        "    FROM name_number \n",
        "), \n",
        "unique_number AS\n",
        "(\n",
        "    SELECT DISTINCT rn\n",
        "    FROM name_number\n",
        "    ORDER BY rn\n",
        "), \n",
        "all_actors AS\n",
        "(\n",
        "    SELECT Name, Occupation, rn\n",
        "    FROM name_number\n",
        "    WHERE Occupation = 'Actor'\n",
        "    ORDER BY Name\n",
        "),\n",
        "all_doctors AS\n",
        "(\n",
        "    SELECT Name, Occupation, rn\n",
        "    FROM name_number\n",
        "    WHERE Occupation = 'Doctor'\n",
        "    ORDER BY Name\n",
        "),\n",
        "all_professors AS\n",
        "(\n",
        "    SELECT Name, Occupation, rn\n",
        "    FROM name_number\n",
        "    WHERE Occupation = 'Professor'\n",
        "    ORDER BY Name\n",
        "),\n",
        "all_singers AS\n",
        "(\n",
        "    SELECT Name, Occupation, rn\n",
        "    FROM name_number\n",
        "    WHERE Occupation = 'Singer'\n",
        "    ORDER BY Name\n",
        ")\n",
        "SELECT \n",
        "    all_doctors.Name, \n",
        "    all_professors.Name,\n",
        "    all_singers.Name, \n",
        "    all_actors.Name\n",
        "FROM unique_number\n",
        "FULL JOIN all_doctors\n",
        "ON (unique_number.rn = all_doctors.rn)\n",
        "FULL JOIN all_professors\n",
        "ON (unique_number.rn = all_professors.rn)\n",
        "FULL JOIN all_singers\n",
        "ON (unique_number.rn = all_singers.rn) \n",
        "FULL JOIN all_actors\n",
        "ON (unique_number.rn = all_actors.rn) \n",
        ";"
      ],
      "metadata": {
        "id": "Fzx5ALVFCRD2"
      },
      "execution_count": null,
      "outputs": []
    },
    {
      "cell_type": "code",
      "source": [
        ""
      ],
      "metadata": {
        "id": "cUw4xEL22bDH"
      },
      "execution_count": null,
      "outputs": []
    },
    {
      "cell_type": "markdown",
      "source": [
        "# task3  (lesson9)\n",
        "* oracle: https://www.hackerrank.com/challenges/weather-observation-station-9/problem"
      ],
      "metadata": {
        "id": "H93xqQ6swP7c"
      }
    },
    {
      "cell_type": "code",
      "source": [
        "SELECT DISTINCT city\n",
        "FROM STATION \n",
        "WHERE LOWER(SUBSTR(city, 1, 1)) not in ('a', 'e', 'i', 'o', 'u')\n",
        ";"
      ],
      "metadata": {
        "id": "JypvAEz5FdAX"
      },
      "execution_count": null,
      "outputs": []
    },
    {
      "cell_type": "markdown",
      "source": [
        "# task4  (lesson9)\n",
        "* oracle: https://www.hackerrank.com/challenges/weather-observation-station-10/problem"
      ],
      "metadata": {
        "id": "LdRCken1wP-g"
      }
    },
    {
      "cell_type": "code",
      "source": [
        "SELECT DISTINCT city\n",
        "FROM STATION \n",
        "WHERE LOWER(SUBSTR(city, -1, 1)) not in ('a', 'e', 'i', 'o', 'u')\n",
        ";"
      ],
      "metadata": {
        "id": "Ux_k1RlnFs61"
      },
      "execution_count": null,
      "outputs": []
    },
    {
      "cell_type": "markdown",
      "source": [
        "# task5  (lesson9)\n",
        "* oracle: https://www.hackerrank.com/challenges/weather-observation-station-11/problem"
      ],
      "metadata": {
        "id": "k2HV8IKGwQA3"
      }
    },
    {
      "cell_type": "code",
      "source": [
        "SELECT DISTINCT city\n",
        "FROM STATION \n",
        "WHERE \n",
        "    (LOWER(SUBSTR(city, 1, 1)) not in ('a', 'e', 'i', 'o', 'u')) OR\n",
        "    (LOWER(SUBSTR(city, -1, 1)) not in ('a', 'e', 'i', 'o', 'u'))\n",
        ";"
      ],
      "metadata": {
        "id": "OTPypO_nGWIb"
      },
      "execution_count": null,
      "outputs": []
    },
    {
      "cell_type": "markdown",
      "source": [
        "# task6  (lesson9)\n",
        "* oracle: https://www.hackerrank.com/challenges/weather-observation-station-12/problem"
      ],
      "metadata": {
        "id": "5k8WlYC9wQDx"
      }
    },
    {
      "cell_type": "code",
      "source": [
        "SELECT DISTINCT city\n",
        "FROM STATION \n",
        "WHERE \n",
        "    (LOWER(SUBSTR(city, 1, 1)) not in ('a', 'e', 'i', 'o', 'u')) AND\n",
        "    (LOWER(SUBSTR(city, -1, 1)) not in ('a', 'e', 'i', 'o', 'u'))\n",
        ";"
      ],
      "metadata": {
        "id": "LwSL5JhhGd1u"
      },
      "execution_count": null,
      "outputs": []
    },
    {
      "cell_type": "markdown",
      "source": [
        "# task7  (lesson9)\n",
        "* oracle: https://www.hackerrank.com/challenges/salary-of-employees/problem"
      ],
      "metadata": {
        "id": "UmBnAdo4wQGz"
      }
    },
    {
      "cell_type": "code",
      "source": [
        "SELECT name\n",
        "FROM Employee \n",
        "WHERE \n",
        "    (salary > 2000) AND\n",
        "    (months < 10)\n",
        "ORDER BY employee_id ASC\n",
        ";"
      ],
      "metadata": {
        "id": "7o8hQcPvHBmk"
      },
      "execution_count": null,
      "outputs": []
    },
    {
      "cell_type": "markdown",
      "source": [
        "# task8  (lesson9)\n",
        "* oracle: https://www.hackerrank.com/challenges/the-report/problem "
      ],
      "metadata": {
        "id": "5by4xAHNwQJm"
      }
    },
    {
      "cell_type": "code",
      "source": [
        "WITH students_grades AS\n",
        "(\n",
        "    SELECT Name, Grade, Marks\n",
        "    FROM Students, Grades \n",
        "    WHERE \n",
        "        (Students.Marks >= Grades.Min_Mark) AND\n",
        "        (Students.Marks <= Grades.Max_Mark)\n",
        ") \n",
        "SELECT Name, Grade, Marks\n",
        "FROM students_grades\n",
        "WHERE Grade >= 8\n",
        "UNION\n",
        "SELECT NULL, Grade, Marks\n",
        "FROM students_grades\n",
        "WHERE Grade < 8\n",
        "ORDER BY Grade DESC, Name, Marks\n",
        ";"
      ],
      "metadata": {
        "id": "0tjnPneywnJI"
      },
      "execution_count": null,
      "outputs": []
    }
  ]
}